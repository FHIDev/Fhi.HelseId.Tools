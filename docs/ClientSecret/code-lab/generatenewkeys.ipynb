{
 "cells": [
  {
   "cell_type": "markdown",
   "id": "d132cdb9",
   "metadata": {},
   "source": [
    "# Generate new keys command"
   ]
  },
  {
   "cell_type": "code",
   "execution_count": null,
   "id": "a54dceac",
   "metadata": {
    "language_info": {
     "name": "polyglot-notebook"
    },
    "polyglot_notebook": {
     "kernelName": "pwsh"
    }
   },
   "outputs": [
    {
     "name": "stdout",
     "output_type": "stream",
     "text": [
      "Tool 'fhi.helseidselvbetjening.cli' is already installed.\n",
      "[13:57:49 INF] Private key saved: C:\\Users\\tkleb\\Documents\\new keys\\keytest010925_private.json\n",
      "[13:57:50 INF] Public key saved: C:\\Users\\tkleb\\Documents\\new keys\\keytest010925_public.json\n"
     ]
    }
   ],
   "source": [
    "dotnet tool install --global Fhi.HelseIdSelvbetjening.CLI --version 1.0.0\n",
    "\n",
    "$keyFileName = \"keytest010925\"\n",
    "$keyDirectory = \"C:\\Users\\tkleb\\Documents\\new keys\"\n",
    "\n",
    "helseid-cli generatekey --KeyFileNamePrefix $keyFileName --KeyDirectory $keyDirectory"
   ]
  }
 ],
 "metadata": {
  "kernelspec": {
   "display_name": ".NET (PowerShell)",
   "language": "PowerShell",
   "name": ".net-pwsh"
  },
  "language_info": {
   "name": "polyglot-notebook"
  },
  "polyglot_notebook": {
   "kernelInfo": {
    "defaultKernelName": "pwsh",
    "items": [
     {
      "aliases": [],
      "languageName": "pwsh",
      "name": "pwsh"
     }
    ]
   }
  }
 },
 "nbformat": 4,
 "nbformat_minor": 5
}
