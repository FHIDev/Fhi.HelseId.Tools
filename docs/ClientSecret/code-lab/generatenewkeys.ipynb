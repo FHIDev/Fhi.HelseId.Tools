{
 "cells": [
  {
   "cell_type": "markdown",
   "id": "d132cdb9",
   "metadata": {},
   "source": [
    "# Generate new keys command"
   ]
  },
  {
   "cell_type": "code",
   "execution_count": null,
   "id": "a54dceac",
   "metadata": {
    "language_info": {
     "name": "polyglot-notebook"
    },
    "polyglot_notebook": {
     "kernelName": "pwsh"
    }
   },
   "outputs": [],
   "source": [
    "dotnet tool install --global Fhi.HelseIdSelvbetjening.CLI --version 1.0.0-beta1\n",
    "\n",
    "& helseid-cli generatekey --KeyFileNamePrefix \"prefixname\" --KeyDirectory \"C:\\\\temp\"\n",
    "Write-Host $output"
   ]
  }
 ],
 "metadata": {
  "kernelspec": {
   "display_name": ".NET (PowerShell)",
   "language": "PowerShell",
   "name": ".net-pwsh"
  },
  "language_info": {
   "name": "polyglot-notebook"
  },
  "polyglot_notebook": {
   "kernelInfo": {
    "defaultKernelName": "pwsh",
    "items": [
     {
      "aliases": [],
      "languageName": "pwsh",
      "name": "pwsh"
     }
    ]
   }
  }
 },
 "nbformat": 4,
 "nbformat_minor": 5
}
