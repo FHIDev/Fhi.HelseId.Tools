{
 "cells": [
  {
   "cell_type": "code",
   "execution_count": null,
   "id": "63206bd0",
   "metadata": {
    "language_info": {
     "name": "polyglot-notebook"
    },
    "polyglot_notebook": {
     "kernelName": "pwsh"
    }
   },
   "outputs": [],
   "source": [
    "# Read client secret command"
   ]
  },
  {
   "cell_type": "code",
   "execution_count": null,
   "id": "ce6ad0c8",
   "metadata": {
    "language_info": {
     "name": "polyglot-notebook"
    },
    "polyglot_notebook": {
     "kernelName": "pwsh"
    }
   },
   "outputs": [],
   "source": [
    "dotnet tool install --global Fhi.HelseIdSelvbetjening.CLI --prerelease\n",
    "\n",
    "$clientId = \"\"\n",
    "$privateJwkPath = \"\"\n",
    "\n",
    "$env:DOTNET_ENVIRONMENT = \"Test\" # Decides which configuration appsettings file to use\n",
    "\n",
    "helseid-cli readclientsecretexpiration --ClientId $clientId --ExistingPrivateJwkPath $privateJwkPath"
   ]
  }
 ],
 "metadata": {
  "kernelspec": {
   "display_name": ".NET (PowerShell)",
   "language": "PowerShell",
   "name": ".net-pwsh"
  },
  "language_info": {
   "name": "polyglot-notebook"
  },
  "polyglot_notebook": {
   "kernelInfo": {
    "defaultKernelName": "pwsh",
    "items": [
     {
      "aliases": [],
      "languageName": "pwsh",
      "name": "pwsh"
     }
    ]
   }
  }
 },
 "nbformat": 4,
 "nbformat_minor": 5
}
