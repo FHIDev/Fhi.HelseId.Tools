{
 "cells": [
  {
   "cell_type": "markdown",
   "id": "62849c1e",
   "metadata": {},
   "source": [
    "# Update client secret command"
   ]
  },
  {
   "cell_type": "code",
   "execution_count": null,
   "id": "5ffced0c",
   "metadata": {
    "language_info": {
     "name": "polyglot-notebook"
    },
    "polyglot_notebook": {
     "kernelName": "pwsh"
    }
   },
   "outputs": [],
   "source": [
    "dotnet tool install --global Fhi.HelseIdSelvbetjening.CLI --prerelease\n",
    "\n",
    "$clientId = \"\"\n",
    "$newKeyPath = \"\"\n",
    "$oldKeyPath =\"\"\n",
    "\n",
    "$env:DOTNET_ENVIRONMENT = \"Test\" # Decides which configuration appsettings file to use\n",
    "\n",
    "helseid-cli updateclientkey --ClientId $clientId --NewPublicJwkPath $newKeyPath --ExistingPrivateJwkPath $oldKeyPath --yes"
   ]
  }
 ],
 "metadata": {
  "kernelspec": {
   "display_name": ".NET (PowerShell)",
   "language": "PowerShell",
   "name": ".net-pwsh"
  },
  "language_info": {
   "name": "polyglot-notebook"
  },
  "polyglot_notebook": {
   "kernelInfo": {
    "defaultKernelName": "pwsh",
    "items": [
     {
      "aliases": [],
      "languageName": "pwsh",
      "name": "pwsh"
     }
    ]
   }
  }
 },
 "nbformat": 4,
 "nbformat_minor": 5
}
