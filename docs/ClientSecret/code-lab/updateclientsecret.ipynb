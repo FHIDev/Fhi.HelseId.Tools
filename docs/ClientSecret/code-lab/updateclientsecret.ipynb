{
 "cells": [
  {
   "cell_type": "markdown",
   "id": "62849c1e",
   "metadata": {},
   "source": [
    "# Update client secret command"
   ]
  },
  {
   "cell_type": "code",
   "execution_count": null,
   "id": "5ffced0c",
   "metadata": {
    "language_info": {
     "name": "polyglot-notebook"
    },
    "polyglot_notebook": {
     "kernelName": "pwsh"
    }
   },
   "outputs": [],
   "source": [
    "dotnet tool install --global Fhi.HelseIdSelvbetjening.CLI --version 1.0.0-beta1\n",
    "$clientId = \"\"\n",
    "$newKey = \"\"\n",
    "$oldKey =\"\"\n",
    "\n",
    "$env:DOTNET_ENVIRONMENT = \"Development\"\n",
    "\n",
    "& helseid-cli updateclientkey --ClientId $clientId --NewClientJwk $newKey --OldClientJwk $oldKey\n",
    "\n",
    "Write-Host $output"
   ]
  }
 ],
 "metadata": {
  "kernelspec": {
   "display_name": ".NET (PowerShell)",
   "language": "PowerShell",
   "name": ".net-pwsh"
  },
  "language_info": {
   "name": "polyglot-notebook"
  },
  "polyglot_notebook": {
   "kernelInfo": {
    "defaultKernelName": "pwsh",
    "items": [
     {
      "aliases": [],
      "languageName": "pwsh",
      "name": "pwsh"
     }
    ]
   }
  }
 },
 "nbformat": 4,
 "nbformat_minor": 5
}
