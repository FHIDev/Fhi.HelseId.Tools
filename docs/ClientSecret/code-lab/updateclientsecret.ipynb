{
 "cells": [
  {
   "cell_type": "markdown",
   "id": "62849c1e",
   "metadata": {},
   "source": [
    "# Update client secret command"
   ]
  },
  {
   "cell_type": "code",
   "execution_count": null,
   "id": "5ffced0c",
   "metadata": {
    "language_info": {
     "name": "polyglot-notebook"
    },
    "polyglot_notebook": {
     "kernelName": "pwsh"
    }
   },
   "outputs": [],
   "source": [
    "dotnet tool install --global Fhi.HelseIdSelvbetjening.CLI --version 1.0.0\n",
    "\n",
    "$clientId = \"\"\n",
    "$newKeyPath = \"\"\n",
    "$oldKeyPath =\"\"\n",
    "$authorityUrl = \"\"\n",
    "$baseAddress = \"\"\n",
    "\n",
    "helseid-cli updateclientkey --ClientId $clientId --NewPublicJwkPath $newKeyPath --ExistingPrivateJwkPath $oldKeyPath --AuthorityUrl $authorityUrl --BaseAddress $baseAddress --Yes"
   ]
  }
 ],
 "metadata": {
  "kernelspec": {
   "display_name": ".NET (PowerShell)",
   "language": "PowerShell",
   "name": ".net-pwsh"
  },
  "language_info": {
   "name": "polyglot-notebook"
  },
  "polyglot_notebook": {
   "kernelInfo": {
    "defaultKernelName": "pwsh",
    "items": [
     {
      "aliases": [],
      "languageName": "pwsh",
      "name": "pwsh"
     }
    ]
   }
  }
 },
 "nbformat": 4,
 "nbformat_minor": 5
}
