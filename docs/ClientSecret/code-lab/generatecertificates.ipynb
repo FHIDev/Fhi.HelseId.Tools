{
    "cells": [
        {
            "cell_type": "markdown",
            "id": "d132cdb9",
            "metadata": {},
            "source": [
                "# Generate new certificates command"
            ]
        },
        {
            "cell_type": "code",
            "execution_count": null,
            "id": "a54dceac",
            "metadata": {
                "language_info": {
                    "name": "polyglot-notebook"
                },
                "polyglot_notebook": {
                    "kernelName": "pwsh"
                }
            },
            "outputs": [
                {
                    "name": "stdout",
                    "output_type": "stream",
                    "text": []
                }
            ],
            "source": [
                "dotnet tool install --global Fhi.HelseIdSelvbetjening.CLI --prerelease\n",
                "\n",
                "$certificateCommonName = \"CertName\"\n",
                "$certificatePassword = \"CertPw123!\"\n",
                "$certificateDirectory = \"C:\\Certificates\\test1\"\n",
                "\n",
                "\n",
                "helseid-cli generatecertificate --CertificateCommonName $certificateCommonName --CertificatePassword $certificatePassword --CertificateDirectory $certificateDirectory"
            ]
        }
    ],
    "metadata": {
        "kernelspec": {
            "display_name": ".NET (PowerShell)",
            "language": "PowerShell",
            "name": ".net-pwsh"
        },
        "language_info": {
            "name": "polyglot-notebook"
        },
        "polyglot_notebook": {
            "kernelInfo": {
                "defaultKernelName": "pwsh",
                "items": [
                    {
                        "aliases": [],
                        "languageName": "pwsh",
                        "name": "pwsh"
                    }
                ]
            }
        }
    },
    "nbformat": 4,
    "nbformat_minor": 5
}
